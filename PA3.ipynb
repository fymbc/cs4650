{
  "cells": [
    {
      "cell_type": "markdown",
      "metadata": {
        "id": "view-in-github",
        "colab_type": "text"
      },
      "source": [
        "<a href=\"https://colab.research.google.com/github/fymbc/cs4650/blob/main/PA3.ipynb\" target=\"_parent\"><img src=\"https://colab.research.google.com/assets/colab-badge.svg\" alt=\"Open In Colab\"/></a>"
      ]
    },
    {
      "cell_type": "markdown",
      "metadata": {
        "id": "AxiBjiN7caiJ"
      },
      "source": [
        "# Neural Chatbot with Seq2Seq Model, Fine-tuned GPT-2\n",
        "**CS 4650 \"Natural Language Processing\" Project 3**  \n",
        "Georgia Tech, Spring 2025 (Instructor: Weicheng Ma)\n",
        "\n",
        "**To start, first make a copy of this notebook to your local drive, so you can edit it.**\n",
        "\n",
        "If you want GPUs (which will improve training speed), you can always change your instance type to GPU by going to Runtime -> Change runtime type -> Hardware accelerator."
      ]
    },
    {
      "cell_type": "markdown",
      "metadata": {
        "id": "j8VfrUcHqKAa"
      },
      "source": [
        "## 1. Load and Preprocess Data [5 points]"
      ]
    },
    {
      "cell_type": "markdown",
      "metadata": {
        "id": "qCA9aMQxcjoc"
      },
      "source": [
        "Neural dialog models are Sequence-to-Sequence (Seq2Seq) models that produce conversational response given the dialog history. State-of-the-art dialog models are built by fine-tuning large language models on millions of multi-turn conversations and direct human evaluation (RLHF). However, in this assignment we will narrow our scope to single turn conversations to make the problem easier.  \n",
        "\n",
        "In this assignment you will implement:\n",
        "1. Seq2Seq encoder-decoder model\n",
        "2. Seq2Seq model with attention mechanism\n",
        "3. Decoding algorithms. First, a naive greedy decoder, then top-$p$ and beam search decoding."
      ]
    },
    {
      "cell_type": "code",
      "execution_count": null,
      "metadata": {
        "colab": {
          "base_uri": "https://localhost:8080/"
        },
        "id": "NvvU1FzFsz3f",
        "outputId": "087c9171-5c8b-48c6-ed08-57c0571f3afd"
      },
      "outputs": [
        {
          "output_type": "stream",
          "name": "stdout",
          "text": [
            "Downloading...\n",
            "From: https://drive.google.com/uc?id=1qYdSlDJ89AvgozK3V5tik8Op93zPbG6e\n",
            "To: /content/processed_CMDC.pkl\n",
            "\r  0% 0.00/3.49M [00:00<?, ?B/s]\r100% 3.49M/3.49M [00:00<00:00, 260MB/s]\n"
          ]
        }
      ],
      "source": [
        "!gdown 1qYdSlDJ89AvgozK3V5tik8Op93zPbG6e -O processed_CMDC.pkl"
      ]
    },
    {
      "cell_type": "code",
      "execution_count": null,
      "metadata": {
        "id": "TIkNu1zhLAtR"
      },
      "outputs": [],
      "source": [
        "# ===========================================================================\n",
        "# Run some setup code for this notebook. Don't modify anything in this cell.\n",
        "# ===========================================================================\n",
        "\n",
        "import csv, random, re, os, math, pickle, statistics, tqdm, numpy as np\n",
        "from io import open\n",
        "from google.colab import files\n",
        "\n",
        "import torch\n",
        "import torch.nn as nn\n",
        "import torch.nn.functional as F\n",
        "from torch import optim\n",
        "from torch.jit import trace\n",
        "from torch.utils.data import Dataset, DataLoader\n",
        "from torch.nn.utils.rnn import pad_sequence\n",
        "\n",
        "# ===========================================================================\n",
        "# A quick note on CUDA functionality (and `.to(model.device)`):\n",
        "# CUDA is a parallel GPU platform produced by NVIDIA and is used by most GPU\n",
        "# libraries in PyTorch. CUDA organizes GPUs into device IDs (i.e., \"cuda:X\" for GPU #X).\n",
        "# \"device\" will tell PyTorch which GPU (or CPU) to place an object in. Since\n",
        "# collab only uses one GPU, we will use 'cuda' as the device if a GPU is available\n",
        "# and the CPU if not. You will run into problems if your tensors are on different devices.\n",
        "# ===========================================================================\n",
        "device = torch.device('cuda' if torch.cuda.is_available() else 'cpu')\n",
        "# device = torch.device('cpu')"
      ]
    },
    {
      "cell_type": "code",
      "execution_count": null,
      "metadata": {
        "colab": {
          "base_uri": "https://localhost:8080/"
        },
        "id": "v0QVuKL9sfqS",
        "outputId": "f233858a-fba8-46d6-b5de-ed59db9e03d9"
      },
      "outputs": [
        {
          "output_type": "stream",
          "name": "stdout",
          "text": [
            "Thu Oct 26 03:26:06 2023       \n",
            "+-----------------------------------------------------------------------------+\n",
            "| NVIDIA-SMI 525.105.17   Driver Version: 525.105.17   CUDA Version: 12.0     |\n",
            "|-------------------------------+----------------------+----------------------+\n",
            "| GPU  Name        Persistence-M| Bus-Id        Disp.A | Volatile Uncorr. ECC |\n",
            "| Fan  Temp  Perf  Pwr:Usage/Cap|         Memory-Usage | GPU-Util  Compute M. |\n",
            "|                               |                      |               MIG M. |\n",
            "|===============================+======================+======================|\n",
            "|   0  Tesla T4            Off  | 00000000:00:04.0 Off |                    0 |\n",
            "| N/A   69C    P8    11W /  70W |      3MiB / 15360MiB |      0%      Default |\n",
            "|                               |                      |                  N/A |\n",
            "+-------------------------------+----------------------+----------------------+\n",
            "                                                                               \n",
            "+-----------------------------------------------------------------------------+\n",
            "| Processes:                                                                  |\n",
            "|  GPU   GI   CI        PID   Type   Process name                  GPU Memory |\n",
            "|        ID   ID                                                   Usage      |\n",
            "|=============================================================================|\n",
            "|  No running processes found                                                 |\n",
            "+-----------------------------------------------------------------------------+\n"
          ]
        }
      ],
      "source": [
        "gpu_info = !nvidia-smi\n",
        "gpu_info = '\\n'.join(gpu_info)\n",
        "if gpu_info.find('failed') >= 0:\n",
        "  print('Select the Runtime > \"Change runtime type\" menu to enable a GPU accelerator, ')\n",
        "  print('and then re-execute this cell.')\n",
        "else:\n",
        "  print(gpu_info)"
      ]
    },
    {
      "cell_type": "markdown",
      "metadata": {
        "id": "pA4RhP1Rfegu"
      },
      "source": [
        "### 1.1 Preparing Data"
      ]
    },
    {
      "cell_type": "markdown",
      "metadata": {
        "id": "Sjw3wbo8fipA"
      },
      "source": [
        "For the dataset we will be using a small sample of single turn input and response pairs from [Cornell Movie Dialog Corpus](https://www.cs.cornell.edu/~cristian/Cornell_Movie-Dialogs_Corpus.html). We filter conversational pairs with sentences > 10 tokens. To reduce your work, we have already created a sample of tokenized, lowercased single turn conversations from Cornell Movie Dialog Corpus."
      ]
    },
    {
      "cell_type": "code",
      "source": [
        "def print_list(l, K=None):\n",
        "\tfor i, e in enumerate(l):\n",
        "\t\tif i == K:\n",
        "\t\t\tbreak\n",
        "\t\tprint(e)\n",
        "\tprint()\n",
        "\n",
        "def load_from_pickle(pickle_file):\n",
        "\twith open(pickle_file, \"rb\") as pickle_in:\n",
        "\t\treturn pickle.load(pickle_in)"
      ],
      "metadata": {
        "id": "rTlgiBNWPrVQ"
      },
      "execution_count": null,
      "outputs": []
    },
    {
      "cell_type": "code",
      "execution_count": null,
      "metadata": {
        "colab": {
          "base_uri": "https://localhost:8080/"
        },
        "id": "9l4KOwIsNWqb",
        "outputId": "fa4c81eb-ff99-4f8d-889d-c01a14305c86"
      },
      "outputs": [
        {
          "output_type": "stream",
          "name": "stdout",
          "text": [
            "Number of Training Conversation Pairs = 53065\n",
            "Number of Evaluation Conversation Pairs = 100\n"
          ]
        }
      ],
      "source": [
        "# Loading the pre-processed conversational exchanges (source-target pairs) from pickle data files\n",
        "all_conversations = load_from_pickle(\"processed_CMDC.pkl\")\n",
        "\n",
        "# Extract 100 conversations from the end for evaluation and keep the rest for training\n",
        "eval_conversations = all_conversations[-100:]\n",
        "all_conversations = all_conversations[:-100]\n",
        "\n",
        "# Logging data stats\n",
        "print(f\"Number of Training Conversation Pairs = {len(all_conversations)}\")\n",
        "print(f\"Number of Evaluation Conversation Pairs = {len(eval_conversations)}\")"
      ]
    },
    {
      "cell_type": "markdown",
      "metadata": {
        "id": "OHI2pdQDgoEB"
      },
      "source": [
        "Let's print a couple of conversations to check if they are loaded properly."
      ]
    },
    {
      "cell_type": "code",
      "execution_count": null,
      "metadata": {
        "colab": {
          "base_uri": "https://localhost:8080/"
        },
        "id": "MACN38BoN7OQ",
        "outputId": "cbf5d66f-1476-42b5-bd45-2a01834c70a3"
      },
      "outputs": [
        {
          "output_type": "stream",
          "name": "stdout",
          "text": [
            "('there .', 'where ?')\n",
            "('you have my word . as a gentleman', 'you re sweet .')\n",
            "('hi .', 'looks like things worked out tonight huh ?')\n",
            "('have fun tonight ?', 'tons')\n",
            "('well no . . .', 'then that s all you had to say .')\n",
            "\n"
          ]
        }
      ],
      "source": [
        "print_list(all_conversations, 5)"
      ]
    },
    {
      "cell_type": "markdown",
      "metadata": {
        "id": "QYKyOii3p0Hb"
      },
      "source": [
        "### 1.2 Vocabulary"
      ]
    },
    {
      "cell_type": "markdown",
      "metadata": {
        "id": "2Bqccrbvgugd"
      },
      "source": [
        "The words in the sentences need to be converted into integer tokens so that the neural model can operate on them. For this purpose, we will create a vocabulary which will convert the input strings into model recognizable integer tokens."
      ]
    },
    {
      "cell_type": "code",
      "execution_count": null,
      "metadata": {
        "colab": {
          "base_uri": "https://localhost:8080/"
        },
        "id": "3zfGojqcqmLK",
        "outputId": "ccf334c6-42a8-480b-e3a1-94caa1acc066"
      },
      "outputs": [
        {
          "output_type": "stream",
          "name": "stdout",
          "text": [
            "Total words in the vocabulary = 7727\n"
          ]
        }
      ],
      "source": [
        "# ===========================================================================\n",
        "# Don't modify anything in this cell.\n",
        "# ===========================================================================\n",
        "\n",
        "pad_word = \"<pad>\"\n",
        "bos_word = \"<s>\"\n",
        "eos_word = \"</s>\"\n",
        "unk_word = \"<unk>\"\n",
        "pad_id = 0\n",
        "bos_id = 1\n",
        "eos_id = 2\n",
        "unk_id = 3\n",
        "\n",
        "def normalize_sentence(s):\n",
        "    s = re.sub(r\"([.!?])\", r\" \\1\", s)\n",
        "    s = re.sub(r\"[^a-zA-Z.!?]+\", r\" \", s)\n",
        "    s = re.sub(r\"\\s+\", r\" \", s).strip()\n",
        "    return s\n",
        "\n",
        "class Vocabulary:\n",
        "    def __init__(self):\n",
        "        self.word_to_id = {pad_word: pad_id, bos_word: bos_id, eos_word:eos_id, unk_word: unk_id}\n",
        "        self.word_count = {}\n",
        "        self.id_to_word = {pad_id: pad_word, bos_id: bos_word, eos_id: eos_word, unk_id: unk_word}\n",
        "        self.num_words = 4\n",
        "\n",
        "    def get_ids_from_sentence(self, sentence):\n",
        "        sentence = normalize_sentence(sentence)\n",
        "        sent_ids = [bos_id] + [self.word_to_id[word] if word in self.word_to_id \\\n",
        "                               else unk_id for word in sentence.split()] + \\\n",
        "                               [eos_id]\n",
        "        return sent_ids\n",
        "\n",
        "    def tokenized_sentence(self, sentence):\n",
        "        sent_ids = self.get_ids_from_sentence(sentence)\n",
        "        return [self.id_to_word[word_id] for word_id in sent_ids]\n",
        "\n",
        "    def decode_sentence_from_ids(self, sent_ids):\n",
        "        words = list()\n",
        "        for i, word_id in enumerate(sent_ids):\n",
        "            if word_id in [bos_id, eos_id, pad_id]:\n",
        "                # Skip these words\n",
        "                continue\n",
        "            else:\n",
        "                words.append(self.id_to_word[word_id])\n",
        "        return ' '.join(words)\n",
        "\n",
        "    def add_words_from_sentence(self, sentence):\n",
        "        sentence = normalize_sentence(sentence)\n",
        "        for word in sentence.split():\n",
        "            if word not in self.word_to_id:\n",
        "                # add this word to the vocabulary\n",
        "                self.word_to_id[word] = self.num_words\n",
        "                self.id_to_word[self.num_words] = word\n",
        "                self.word_count[word] = 1\n",
        "                self.num_words += 1\n",
        "            else:\n",
        "                # update the word count\n",
        "                self.word_count[word] += 1\n",
        "\n",
        "vocab = Vocabulary()\n",
        "for src, tgt in all_conversations:\n",
        "    vocab.add_words_from_sentence(src)\n",
        "    vocab.add_words_from_sentence(tgt)\n",
        "print(f\"Total words in the vocabulary = {vocab.num_words}\")"
      ]
    },
    {
      "cell_type": "markdown",
      "metadata": {
        "id": "LBouL7ZHyvxM"
      },
      "source": [
        "Let's print top 30 vocab words:"
      ]
    },
    {
      "cell_type": "code",
      "execution_count": null,
      "metadata": {
        "colab": {
          "base_uri": "https://localhost:8080/"
        },
        "id": "1dlNBVwc0dzI",
        "outputId": "8d7b37a6-6724-4f80-e454-78f7c38839d9"
      },
      "outputs": [
        {
          "output_type": "stream",
          "name": "stdout",
          "text": [
            "('.', 84255)\n",
            "('?', 36822)\n",
            "('you', 25093)\n",
            "('i', 18946)\n",
            "('what', 10765)\n",
            "('s', 10089)\n",
            "('it', 9668)\n",
            "('!', 8872)\n",
            "('the', 8011)\n",
            "('t', 7411)\n",
            "('to', 6929)\n",
            "('a', 6582)\n",
            "('that', 5992)\n",
            "('no', 4931)\n",
            "('me', 4839)\n",
            "('do', 4745)\n",
            "('is', 4434)\n",
            "('don', 3577)\n",
            "('are', 3503)\n",
            "('he', 3413)\n",
            "('yes', 3384)\n",
            "('m', 3382)\n",
            "('not', 3252)\n",
            "('we', 3252)\n",
            "('know', 3171)\n",
            "('re', 2965)\n",
            "('your', 2809)\n",
            "('this', 2726)\n",
            "('yeah', 2708)\n",
            "('in', 2678)\n",
            "\n"
          ]
        }
      ],
      "source": [
        "print_list(sorted(vocab.word_count.items(), key=lambda item: item[1], reverse=True), 30)"
      ]
    },
    {
      "cell_type": "markdown",
      "metadata": {
        "id": "p52g6zoE3b8R"
      },
      "source": [
        "Print a couple of sentences to verify that the vocabulary is working as intended."
      ]
    },
    {
      "cell_type": "code",
      "execution_count": null,
      "metadata": {
        "colab": {
          "base_uri": "https://localhost:8080/"
        },
        "id": "BIZG1fmA1BED",
        "outputId": "80073456-a4e7-4561-8cf1-cfec96e04361"
      },
      "outputs": [
        {
          "output_type": "stream",
          "name": "stdout",
          "text": [
            "where ?\n",
            "['<s>', 'where', '?', '</s>']\n",
            "[1, 6, 7, 2]\n",
            "where ?\n",
            "\n",
            "you re sweet .\n",
            "['<s>', 'you', 're', 'sweet', '.', '</s>']\n",
            "[1, 8, 15, 16, 5, 2]\n",
            "you re sweet .\n",
            "\n",
            "looks like things worked out tonight huh ?\n",
            "['<s>', 'looks', 'like', 'things', 'worked', 'out', 'tonight', 'huh', '?', '</s>']\n",
            "[1, 18, 19, 20, 21, 22, 23, 24, 7, 2]\n",
            "looks like things worked out tonight huh ?\n",
            "\n",
            "Word = the\n",
            "Word ID = 47\n",
            "Word decoded from ID = the\n"
          ]
        }
      ],
      "source": [
        "for src, tgt in all_conversations[:3]:\n",
        "    sentence = tgt\n",
        "    word_tokens = vocab.tokenized_sentence(sentence)\n",
        "\n",
        "    # Automatically adds bos_id and eos_id before and after sentence ids respectively\n",
        "    word_ids = vocab.get_ids_from_sentence(sentence)\n",
        "    print(sentence)\n",
        "    print(word_tokens)\n",
        "    print(word_ids)\n",
        "    print(vocab.decode_sentence_from_ids(word_ids))\n",
        "    print()\n",
        "\n",
        "word = \"the\"\n",
        "word_id = vocab.word_to_id[word]\n",
        "print(f\"Word = {word}\")\n",
        "print(f\"Word ID = {word_id}\")\n",
        "print(f\"Word decoded from ID = {vocab.decode_sentence_from_ids([word_id])}\")"
      ]
    },
    {
      "cell_type": "markdown",
      "metadata": {
        "id": "jVbxmW8N3qL4"
      },
      "source": [
        "### 1.3 Dataset Preparation"
      ]
    },
    {
      "cell_type": "markdown",
      "metadata": {
        "id": "rre6BLuah8w-"
      },
      "source": [
        "We will use built-in dataset utilities, `torch.utils.data.Dataset` and `torch.utils.data.DataLoader`, to get batched data readily useful for training."
      ]
    },
    {
      "cell_type": "code",
      "execution_count": null,
      "metadata": {
        "id": "92DIBSL43pJT"
      },
      "outputs": [],
      "source": [
        "class SingleTurnMovieDialog_dataset(Dataset):\n",
        "    \"\"\"Single-Turn version of Cornell Movie Dialog Cropus dataset.\"\"\"\n",
        "\n",
        "    def __init__(self, conversations, vocab, device):\n",
        "        \"\"\"\n",
        "        Args:\n",
        "            conversations: list of tuple (src_string, tgt_string)\n",
        "                         - src_string: String of the source sentence\n",
        "                         - tgt_string: String of the target sentence\n",
        "            vocab: Vocabulary object that contains the mapping of\n",
        "                    words to indices\n",
        "            device: cpu or cuda\n",
        "        \"\"\"\n",
        "        self.conversations = conversations\n",
        "        self.vocab = vocab\n",
        "        self.device = device\n",
        "\n",
        "        def encode(src, tgt):\n",
        "            src_ids = self.vocab.get_ids_from_sentence(src)\n",
        "            tgt_ids = self.vocab.get_ids_from_sentence(tgt)\n",
        "            return (src_ids, tgt_ids)\n",
        "\n",
        "        # We will pre-tokenize the conversations and save in id lists for later use\n",
        "        self.tokenized_conversations = [encode(src, tgt) for src, tgt in self.conversations]\n",
        "\n",
        "    def __len__(self):\n",
        "        return len(self.conversations)\n",
        "\n",
        "    def __getitem__(self, idx):\n",
        "        if torch.is_tensor(idx):\n",
        "            idx = idx.tolist()\n",
        "\n",
        "        return {\"conv_ids\":self.tokenized_conversations[idx], \"conv\":self.conversations[idx]}\n",
        "\n",
        "def collate_fn(data):\n",
        "    \"\"\"Creates mini-batch tensors from the list of tuples (src_seq, trg_seq).\n",
        "    We should build a custom collate_fn rather than using default collate_fn,\n",
        "    because merging sequences (including padding) is not supported in default.\n",
        "    Seqeuences are padded to the maximum length of mini-batch sequences (dynamic padding).\n",
        "    Args:\n",
        "        data: list of dicts {\"conv_ids\":(src_ids, tgt_ids), \"conv\":(src_str, trg_str)}.\n",
        "            - src_ids: list of src piece ids; variable length.\n",
        "            - tgt_ids: list of tgt piece ids; variable length.\n",
        "            - src_str: String of src\n",
        "            - tgt_str: String of tgt\n",
        "    Returns: dict { \"conv_ids\":     (src_ids, tgt_ids),\n",
        "                    \"conv\":         (src_str, tgt_str),\n",
        "                    \"conv_tensors\": (src_seqs, tgt_seqs)}\n",
        "            src_seqs: torch tensor of shape (src_padded_length, batch_size).\n",
        "            trg_seqs: torch tensor of shape (tgt_padded_length, batch_size).\n",
        "            src_padded_length = length of the longest src sequence from src_ids\n",
        "            tgt_padded_length = length of the longest tgt sequence from tgt_ids\n",
        "\n",
        "    Implementation tip: You can use the nn.utils.rnn.pad_sequence utility\n",
        "    function to combine a list of variable-length sequences with padding.\n",
        "    \"\"\"\n",
        "    # Sort conv_ids based on decreasing order of the src_lengths.\n",
        "    # This is required for efficient GPU computations.\n",
        "    src_ids = [torch.LongTensor(e[\"conv_ids\"][0]) for e in data]\n",
        "    tgt_ids = [torch.LongTensor(e[\"conv_ids\"][1]) for e in data]\n",
        "    src_str = [e[\"conv\"][0] for e in data]\n",
        "    tgt_str = [e[\"conv\"][1] for e in data]\n",
        "    data = list(zip(src_ids, tgt_ids, src_str, tgt_str))\n",
        "    data.sort(key=lambda x: len(x[0]), reverse=True)\n",
        "    src_ids, tgt_ids, src_str, tgt_str = zip(*data)\n",
        "\n",
        "    ### BEGIN YOUR CODE ###\n",
        "\n",
        "    # Pad the src_ids and tgt_ids using token pad_id to create src_seqs and tgt_seqs\n",
        "\n",
        "    ### END YOUR CODE ###\n",
        "\n",
        "    return {\"conv_ids\":(src_ids, tgt_ids), \"conv\":(src_str, tgt_str), \"conv_tensors\":(src_seqs.to(device), tgt_seqs.to(device))}"
      ]
    },
    {
      "cell_type": "code",
      "execution_count": null,
      "metadata": {
        "id": "lAQ26bgF4GT1"
      },
      "outputs": [],
      "source": [
        "# Create the DataLoader for all_conversations\n",
        "dataset = SingleTurnMovieDialog_dataset(all_conversations, vocab, device)\n",
        "\n",
        "batch_size = 5\n",
        "\n",
        "data_loader = DataLoader(dataset=dataset, batch_size=batch_size, shuffle=True, collate_fn=collate_fn)"
      ]
    },
    {
      "cell_type": "markdown",
      "metadata": {
        "id": "-DC5oaHF4Mn6"
      },
      "source": [
        "Let's test a batch of data to make sure everything is working as intended"
      ]
    },
    {
      "cell_type": "code",
      "execution_count": null,
      "metadata": {
        "colab": {
          "base_uri": "https://localhost:8080/"
        },
        "id": "y8vYxSJl4NNp",
        "outputId": "6bcec702-15d6-4721-c034-a3272d5322e0"
      },
      "outputs": [
        {
          "output_type": "stream",
          "name": "stdout",
          "text": [
            "Testing first training batch of size 5\n",
            "List of source strings:\n",
            "is that why you wanted to see me ?\n",
            "use the bathroom .\n",
            "for a consideration .\n",
            "but dad\n",
            "jane ?\n",
            "\n",
            "Tokenized source ids:\n",
            "tensor([  1, 278,  30,  87,   8, 101,  34, 470,  75,   7,   2])\n",
            "tensor([   1, 1037,   47,  510,    5,    2])\n",
            "tensor([   1,   85,   13, 5422,    5,    2])\n",
            "tensor([  1,  36, 875,   2])\n",
            "tensor([   1, 3100,    7,    2])\n",
            "\n",
            "Padded source ids as tensor (shape torch.Size([11, 5])):\n",
            "tensor([[   1,    1,    1,    1,    1],\n",
            "        [ 278, 1037,   85,   36, 3100],\n",
            "        [  30,   47,   13,  875,    7],\n",
            "        [  87,  510, 5422,    2,    2],\n",
            "        [   8,    5,    5,    0,    0],\n",
            "        [ 101,    2,    2,    0,    0],\n",
            "        [  34,    0,    0,    0,    0],\n",
            "        [ 470,    0,    0,    0,    0],\n",
            "        [  75,    0,    0,    0,    0],\n",
            "        [   7,    0,    0,    0,    0],\n",
            "        [   2,    0,    0,    0,    0]], device='cuda:0')\n"
          ]
        }
      ],
      "source": [
        "# Test one batch of training data\n",
        "first_batch = next(iter(data_loader))\n",
        "print(f\"Testing first training batch of size {len(first_batch['conv'][0])}\")\n",
        "print(f\"List of source strings:\")\n",
        "print_list(first_batch[\"conv\"][0])\n",
        "print(f\"Tokenized source ids:\")\n",
        "print_list(first_batch[\"conv_ids\"][0])\n",
        "print(f\"Padded source ids as tensor (shape {first_batch['conv_tensors'][0].size()}):\")\n",
        "print(first_batch[\"conv_tensors\"][0])"
      ]
    },
    {
      "cell_type": "markdown",
      "metadata": {
        "id": "fHMAx6Zym_NS"
      },
      "source": [
        "## 2. Baseline Seq2Seq Model [25 points]"
      ]
    },
    {
      "cell_type": "markdown",
      "metadata": {
        "id": "WcjfWInLnIsz"
      },
      "source": [
        "With the training `Dataset` and `DataLoader` ready, we can implement our Seq2Seq baseline model.\n",
        "\n",
        "The model will consist of\n",
        "1. Shared embedding layer between encoder and decoder that converts the input sequence of word ids to dense embedding representations\n",
        "2. Bidirectional GRU encoder that encodes the embedded source sequence into hidden representation\n",
        "3. GRU decoder that predicts target sequence using final encoder hidden representation"
      ]
    },
    {
      "cell_type": "code",
      "execution_count": null,
      "metadata": {
        "id": "s4QitXM9Szr9"
      },
      "outputs": [],
      "source": [
        "class Seq2seqBaseline(nn.Module):\n",
        "    def __init__(self, vocab, emb_dim = 300, hidden_dim = 300, num_layers = 2, dropout=0.1):\n",
        "        \"\"\"\n",
        "        Initialize your model's parameters here. To get started, we suggest\n",
        "        setting all embedding and hidden dimensions to 300, using encoder and\n",
        "        decoder GRUs with 2 layers, and using a dropout rate of 0.1.\n",
        "\n",
        "        Implementation tip: To create a bidirectional GRU, you don't need to\n",
        "        create two GRU networks. Instead use nn.GRU(..., bidirectional=True).\n",
        "        \"\"\"\n",
        "        super().__init__()\n",
        "\n",
        "        self.num_words = num_words = vocab.num_words\n",
        "        self.emb_dim = emb_dim\n",
        "        self.hidden_dim = hidden_dim\n",
        "        self.num_layers = num_layers\n",
        "\n",
        "        ### BEGIN YOUR CODE ###\n",
        "\n",
        "\n",
        "\n",
        "        ### END YOUR CODE ###\n",
        "\n",
        "    def encode(self, source):\n",
        "        \"\"\"Encode the source batch using a bidirectional GRU encoder.\n",
        "\n",
        "        Args:\n",
        "            source: An integer tensor with shape (max_src_sequence_length,\n",
        "                batch_size) containing subword indices for the source sentences.\n",
        "\n",
        "        Returns:\n",
        "            A tuple with three elements:\n",
        "                encoder_output: The output hidden representation of the encoder\n",
        "                    with shape (max_src_sequence_length, batch_size, hidden_size).\n",
        "                    Can be obtained by adding the hidden representations of both\n",
        "                    directions of the encoder bidirectional GRU.\n",
        "                encoder_mask: A boolean tensor with shape (max_src_sequence_length,\n",
        "                    batch_size) indicating which encoder outputs correspond to padding\n",
        "                    tokens. Its elements should be True at positions corresponding to\n",
        "                    padding tokens and False elsewhere.\n",
        "                encoder_hidden: The final hidden states of the bidirectional GRU\n",
        "                    (after a suitable projection) that will be used to initialize\n",
        "                    the decoder. This should be a tensor h_n with shape\n",
        "                    (num_layers, batch_size, hidden_size). Note that the hidden\n",
        "                    state returned by the bi-GRU cannot be used directly. Its\n",
        "                    initial dimension is twice the required size because it\n",
        "                    contains state from two directions.\n",
        "\n",
        "        The first two return values are not required for the baseline model and will\n",
        "        only be used later in the attention model. If desired, they can be replaced\n",
        "        with None for the initial implementation.\n",
        "\n",
        "        Implementation tip: consider using packed sequences to more easily work\n",
        "        with the variable-length sequences represented by the source tensor.\n",
        "        See https://pytorch.org/docs/stable/nn.html#torch.nn.utils.rnn.PackedSequence.\n",
        "\n",
        "        https://stackoverflow.com/questions/51030782/why-do-we-pack-the-sequences-in-pytorch\n",
        "\n",
        "        Implementation tip: there are many simple ways to combine the forward\n",
        "        and backward portions of the final hidden state, e.g. addition, averaging,\n",
        "        or a linear transformation of the appropriate size. Any of these\n",
        "        should let you reach the required performance.\n",
        "        \"\"\"\n",
        "        # Compute a tensor containing the length of each source sequence.\n",
        "        source_lengths = torch.sum(source != pad_id, axis=0).cpu()\n",
        "\n",
        "        ### BEGIN YOUR CODE ###\n",
        "\n",
        "        # Compute the mask first\n",
        "\n",
        "        # Convert word indexes to embeddings\n",
        "\n",
        "        # Pack padded batch of sequences for RNN module\n",
        "\n",
        "        # Forward pass through GRU\n",
        "\n",
        "        # Unpack padding\n",
        "\n",
        "        # Sum bidirectional GRU outputs\n",
        "\n",
        "        ### END YOUR CODE ###\n",
        "\n",
        "        return outputs, mask, hidden\n",
        "\n",
        "    def decode(self, decoder_input, last_hidden, encoder_output, encoder_mask):\n",
        "        \"\"\"Run the decoder GRU for one decoding step from the last hidden state.\n",
        "\n",
        "        The third and fourth arguments are not used in the baseline model, but are\n",
        "        included for compatibility with the attention model in the next section.\n",
        "\n",
        "        Args:\n",
        "            decoder_input: An integer tensor with shape (1, batch_size) containing\n",
        "                the subword indices for the current decoder input.\n",
        "            last_hidden: A pair of tensors h_{t-1} representing the last hidden\n",
        "                state of the decoder, each with shape (num_layers, batch_size,\n",
        "                hidden_size). For the first decoding step the last_hidden will be\n",
        "                encoder's final hidden representation.\n",
        "            encoder_output: The output of the encoder with shape\n",
        "                (max_src_sequence_length, batch_size, hidden_size).\n",
        "            encoder_mask: The output mask from the encoder with shape\n",
        "                (max_src_sequence_length, batch_size). Encoder outputs at positions\n",
        "                with a True value correspond to padding tokens and should be ignored.\n",
        "\n",
        "        Returns:\n",
        "            A tuple with three elements:\n",
        "                logits: A tensor with shape (batch_size,\n",
        "                    vocab_size) containing unnormalized scores for the next-word\n",
        "                    predictions at each position.\n",
        "                decoder_hidden: tensor h_n with the same shape as last_hidden\n",
        "                    representing the updated decoder state after processing the\n",
        "                    decoder input.\n",
        "                attention_weights: This will be implemented later in the attention\n",
        "                    model, but in order to maintain compatible type signatures, we also\n",
        "                    include it here. This can be None or any other placeholder value.\n",
        "        \"\"\"\n",
        "        # These arguments are not used in the baseline model.\n",
        "        del encoder_output\n",
        "        del encoder_mask\n",
        "\n",
        "        output, hidden = None, None\n",
        "\n",
        "        ### BEGIN YOUR CODE ###\n",
        "\n",
        "        # First process the decoder_input via embedding layer\n",
        "\n",
        "        # Forward through unidirectional GRU\n",
        "\n",
        "        # Concatenate weighted context vector and GRU output\n",
        "\n",
        "        ### END YOUR CODE ###\n",
        "\n",
        "        return output, hidden, None\n",
        "\n",
        "    def compute_loss(self, source, target):\n",
        "        \"\"\"Run the model on the source and compute the loss on the target.\n",
        "\n",
        "        Args:\n",
        "            source: An integer tensor with shape (max_source_sequence_length,\n",
        "                batch_size) containing subword indices for the source sentences.\n",
        "            target: An integer tensor with shape (max_target_sequence_length,\n",
        "                batch_size) containing subword indices for the target sentences.\n",
        "\n",
        "        Returns:\n",
        "            A scalar float tensor representing cross-entropy loss on the current batch\n",
        "            divided by the number of target tokens in the batch.\n",
        "            Many of the target tokens will be pad tokens. You should mask the loss\n",
        "            from these tokens using appropriate mask on the target tokens loss.\n",
        "\n",
        "        Implementation tip: don't feed the target tensor directly to the decoder.\n",
        "        To see why, note that for a target sequence like <s> A B C </s>, you would\n",
        "        want to run the decoder on the prefix <s> A B C and have it predict the\n",
        "        suffix A B C </s>.\n",
        "\n",
        "        You may run self.encode() on the source only once and decode the target\n",
        "        one step at a time.\n",
        "        \"\"\"\n",
        "\n",
        "        loss = 0\n",
        "\n",
        "        ### BEGIN YOUR CODE ###\n",
        "\n",
        "        # Forward pass through encoder\n",
        "\n",
        "        # Create initial decoder input (start with SOS tokens for each sentence)\n",
        "\n",
        "        # Set initial decoder hidden state to the encoder's final hidden state\n",
        "\n",
        "        # Forward batch of sequences through decoder one time step at a time\n",
        "\n",
        "            # Teacher forcing: next input is current target\n",
        "\n",
        "            # Calculate and accumulate loss\n",
        "\n",
        "        ### END YOUR CODE ###\n",
        "\n",
        "        return loss"
      ]
    },
    {
      "cell_type": "markdown",
      "metadata": {
        "id": "nkcHo-tqsmaH"
      },
      "source": [
        "We provide a training loop for training the model. You are welcome to modify the training loop by adjusting the learning rate or changing optmization settings.\n",
        "\n",
        "**Important:** During our testing we found that training the encoder and decoder with different learning rates is crucial for getting good performance over the small dialog corpus. Specifically, the decoder parameter learning rate should be 5 times the encoder parameter learning rate. Hence, add the encoder parameter variable names in the `encoder_parameter_names` as a list. For example, if encoder is using `self.embedding_layer` and `self.encoder_gru` layer then the `encoder_parameter_names` should be `['embedding_layer', 'encoder_gru']`"
      ]
    },
    {
      "cell_type": "code",
      "execution_count": null,
      "metadata": {
        "id": "rrFiSD1sZCUN"
      },
      "outputs": [],
      "source": [
        "def train(model, data_loader, num_epochs, model_file, learning_rate=0.0001):\n",
        "    \"\"\"\n",
        "    Train the model for given number of epochs and save the trained model in\n",
        "    the final model_file.\n",
        "    \"\"\"\n",
        "    decoder_learning_ratio = 5.0\n",
        "\n",
        "    ### BEGIN YOUR CODE ###\n",
        "\n",
        "    encoder_parameter_names = None # <- Add a list of encoder parameter names here!\n",
        "\n",
        "    ### END YOUR CODE ###\n",
        "\n",
        "    encoder_named_params = list(filter(lambda kv: any(key in kv[0] for key in encoder_parameter_names), model.named_parameters()))\n",
        "    decoder_named_params = list(filter(lambda kv: not any(key in kv[0] for key in encoder_parameter_names), model.named_parameters()))\n",
        "    encoder_params = [e[1] for e in encoder_named_params]\n",
        "    decoder_params = [e[1] for e in decoder_named_params]\n",
        "    optimizer = torch.optim.AdamW([\n",
        "        {'params': encoder_params},\n",
        "        {\n",
        "            'params': decoder_params,\n",
        "            'lr': learning_rate * decoder_learning_ratio\n",
        "        }\n",
        "    ], lr = learning_rate)\n",
        "\n",
        "    clip = 50.0\n",
        "    for epoch in tqdm.trange(num_epochs, desc=\"training\", unit=\"epoch\"):\n",
        "        with tqdm.tqdm(data_loader, desc=f\"epoch {epoch + 1}\", unit=\"batch\", total=len(data_loader), position=0, leave=True) as batch_iterator:\n",
        "            model.train()\n",
        "            total_loss = 0.0\n",
        "            for i, batch_data in enumerate(batch_iterator, start=1):\n",
        "                source, target = batch_data[\"conv_tensors\"]\n",
        "                optimizer.zero_grad()\n",
        "                loss = model.compute_loss(source, target)\n",
        "                total_loss += loss.item()\n",
        "                loss.backward()\n",
        "\n",
        "                # Gradient clipping before taking the step\n",
        "                _ = nn.utils.clip_grad_norm_(model.parameters(), clip)\n",
        "                optimizer.step()\n",
        "\n",
        "                batch_iterator.set_postfix(mean_loss=total_loss / i, current_loss=loss.item())\n",
        "\n",
        "    # Save the model after training\n",
        "    torch.save(model.state_dict(), model_file)"
      ]
    },
    {
      "cell_type": "markdown",
      "metadata": {
        "id": "yIfCFLQcvQQn"
      },
      "source": [
        "We can now train the baseline model.\n",
        "\n",
        "A correct implementation should get a average train loss of < 3.00  \n",
        "The code will automatically save and download the model at the end of training."
      ]
    },
    {
      "cell_type": "code",
      "execution_count": null,
      "metadata": {
        "colab": {
          "base_uri": "https://localhost:8080/",
          "height": 139
        },
        "id": "MVqQnn59ZuHj",
        "outputId": "67793815-6cdc-402d-aa5f-25e7e10af70e"
      },
      "outputs": [
        {
          "output_type": "stream",
          "name": "stderr",
          "text": [
            "epoch 1: 100%|██████████| 830/830 [00:28<00:00, 29.33batch/s, current_loss=3.35, mean_loss=4.11]\n",
            "epoch 2: 100%|██████████| 830/830 [00:26<00:00, 31.91batch/s, current_loss=3.23, mean_loss=3.54]\n",
            "epoch 3: 100%|██████████| 830/830 [00:27<00:00, 30.49batch/s, current_loss=3.04, mean_loss=3.34]\n",
            "epoch 4: 100%|██████████| 830/830 [00:26<00:00, 30.91batch/s, current_loss=3.3, mean_loss=3.18]\n",
            "epoch 5: 100%|██████████| 830/830 [00:26<00:00, 30.92batch/s, current_loss=3.34, mean_loss=3.05]\n",
            "epoch 6: 100%|██████████| 830/830 [00:26<00:00, 31.16batch/s, current_loss=3.07, mean_loss=2.92]\n",
            "training: 100%|██████████| 6/6 [02:41<00:00, 26.99s/epoch]\n"
          ]
        },
        {
          "output_type": "display_data",
          "data": {
            "text/plain": [
              "<IPython.core.display.Javascript object>"
            ],
            "application/javascript": [
              "\n",
              "    async function download(id, filename, size) {\n",
              "      if (!google.colab.kernel.accessAllowed) {\n",
              "        return;\n",
              "      }\n",
              "      const div = document.createElement('div');\n",
              "      const label = document.createElement('label');\n",
              "      label.textContent = `Downloading \"${filename}\": `;\n",
              "      div.appendChild(label);\n",
              "      const progress = document.createElement('progress');\n",
              "      progress.max = size;\n",
              "      div.appendChild(progress);\n",
              "      document.body.appendChild(div);\n",
              "\n",
              "      const buffers = [];\n",
              "      let downloaded = 0;\n",
              "\n",
              "      const channel = await google.colab.kernel.comms.open(id);\n",
              "      // Send a message to notify the kernel that we're ready.\n",
              "      channel.send({})\n",
              "\n",
              "      for await (const message of channel.messages) {\n",
              "        // Send a message to notify the kernel that we're ready.\n",
              "        channel.send({})\n",
              "        if (message.buffers) {\n",
              "          for (const buffer of message.buffers) {\n",
              "            buffers.push(buffer);\n",
              "            downloaded += buffer.byteLength;\n",
              "            progress.value = downloaded;\n",
              "          }\n",
              "        }\n",
              "      }\n",
              "      const blob = new Blob(buffers, {type: 'application/binary'});\n",
              "      const a = document.createElement('a');\n",
              "      a.href = window.URL.createObjectURL(blob);\n",
              "      a.download = filename;\n",
              "      div.appendChild(a);\n",
              "      a.click();\n",
              "      div.remove();\n",
              "    }\n",
              "  "
            ]
          },
          "metadata": {}
        },
        {
          "output_type": "display_data",
          "data": {
            "text/plain": [
              "<IPython.core.display.Javascript object>"
            ],
            "application/javascript": [
              "download(\"download_cf236c30-5431-4382-884b-fb065bc590c2\", \"baseline_model.pt\", 33743563)"
            ]
          },
          "metadata": {}
        }
      ],
      "source": [
        "# You are welcome to adjust these parameters based on your model implementation.\n",
        "num_epochs = 6\n",
        "batch_size = 64\n",
        "\n",
        "# Reloading the data_loader to increase batch_size\n",
        "data_loader = DataLoader(dataset=dataset, batch_size=batch_size, shuffle=True, collate_fn=collate_fn)\n",
        "baseline_model = Seq2seqBaseline(vocab).to(device)\n",
        "train(baseline_model, data_loader, num_epochs, \"baseline_model.pt\")\n",
        "\n",
        "# Download the trained model to local for future use\n",
        "files.download('baseline_model.pt')"
      ]
    },
    {
      "cell_type": "code",
      "execution_count": null,
      "metadata": {
        "colab": {
          "base_uri": "https://localhost:8080/"
        },
        "id": "U83z2yBBw8_N",
        "outputId": "d664950b-abcc-4622-b1be-85146f92a912"
      },
      "outputs": [
        {
          "output_type": "execute_result",
          "data": {
            "text/plain": [
              "<All keys matched successfully>"
            ]
          },
          "metadata": {},
          "execution_count": 52
        }
      ],
      "source": [
        "# Reload the model from the model file. Useful when you have already trained and saved the model\n",
        "baseline_model = Seq2seqBaseline(vocab).to(device)\n",
        "baseline_model.load_state_dict(torch.load(\"baseline_model.pt\", map_location=device))"
      ]
    },
    {
      "cell_type": "markdown",
      "metadata": {
        "id": "h4ru2zqfqp_3"
      },
      "source": [
        "## 3. Decoding [10 points]"
      ]
    },
    {
      "cell_type": "markdown",
      "metadata": {
        "id": "Z8vuvtV7PzJf"
      },
      "source": [
        "### 3.1 Greedy Search"
      ]
    },
    {
      "cell_type": "markdown",
      "metadata": {
        "id": "zOqRfnqrxf3f"
      },
      "source": [
        "Our language model training objective only predicts the *next* token. We need to be able to generate entire strings from the model. We'll first define a greedy inference procedure here. Later on, we'll implement beam search.\n"
      ]
    },
    {
      "cell_type": "code",
      "execution_count": null,
      "metadata": {
        "id": "HG-_G8wZdlJh"
      },
      "outputs": [],
      "source": [
        "def predict_greedy(model, sentence, max_length=100):\n",
        "    \"\"\"\n",
        "    Make predictions for the given input using greedy inference.\n",
        "\n",
        "    Args:\n",
        "        model: A sequence-to-sequence model.\n",
        "        sentence: A input string.\n",
        "        max_length: The maximum length at which to truncate outputs in order to\n",
        "            avoid non-terminating inference.\n",
        "\n",
        "    Returns:\n",
        "        Model's predicted greedy response for the input, represented as string.\n",
        "    \"\"\"\n",
        "\n",
        "    # You should make only one call to model.encode() at the start of the function,\n",
        "    # and make only one call to model.decode() per inference step.\n",
        "    model.eval()\n",
        "\n",
        "    generation = None\n",
        "\n",
        "    ### BEGIN YOUR CODE ###\n",
        "\n",
        "    # Forward input through encoder model\n",
        "\n",
        "    # Prepare encoder's final hidden layer to be first hidden input to the decoder\n",
        "\n",
        "    # Initialize decoder input with SOS_token\n",
        "\n",
        "    # Initialize tensors to append decoded words to\n",
        "\n",
        "    # Iteratively decode one word token at a time\n",
        "\n",
        "        # Forward pass through decoder\n",
        "\n",
        "        # Obtain most likely word token and its softmax score\n",
        "\n",
        "        # Record token and score\n",
        "\n",
        "        # Prepare current token to be next decoder input (add a dimension)\n",
        "\n",
        "    # Return collections of word tokens and scores\n",
        "\n",
        "    ### END YOUR CODE ###\n",
        "\n",
        "    return generation"
      ]
    },
    {
      "cell_type": "markdown",
      "metadata": {
        "id": "zAsOGMw_kHHO"
      },
      "source": [
        "Let's chat interactively with our trained baseline Seq2Seq dialog model and save the generated conversations for submission. We will reuse the conversational inputs while testing Seq2Seq + Attention model."
      ]
    },
    {
      "cell_type": "code",
      "execution_count": null,
      "metadata": {
        "id": "SWlUDUMvfmRy"
      },
      "outputs": [],
      "source": [
        "# ===========================================================================\n",
        "# Set up chat interactive. Don't modify anything in this cell.\n",
        "# ===========================================================================\n",
        "\n",
        "def chat_with_model(model, mode=\"greedy\"):\n",
        "    if mode == \"beam\":\n",
        "        predict_f = predict_beam\n",
        "    elif mode == \"greedy\":\n",
        "        predict_f = predict_greedy\n",
        "    elif mode == \"top-p\":\n",
        "      predict_f = predict_top_p\n",
        "    else:\n",
        "      raise ValueError(mode)\n",
        "    chat_log = list()\n",
        "    input_sentence = ''\n",
        "    while(1):\n",
        "        # Get input sentence\n",
        "        input_sentence = input('Input > ')\n",
        "        # Check if it is quit case\n",
        "        if input_sentence == 'q' or input_sentence == 'quit': break\n",
        "\n",
        "        generation = predict_f(model, input_sentence)\n",
        "        if mode == \"beam\":\n",
        "            generation = generation[0]\n",
        "        print('Greedy Response:', generation)\n",
        "        print()\n",
        "        chat_log.append((input_sentence, generation))\n",
        "    return chat_log"
      ]
    },
    {
      "cell_type": "markdown",
      "metadata": {
        "id": "1zXNHvFgvNaW"
      },
      "source": [
        "*Note: enter \"q\" or \"quit\" to end the interactive chat*"
      ]
    },
    {
      "cell_type": "code",
      "execution_count": null,
      "metadata": {
        "id": "hm_WWqqnf_XF"
      },
      "outputs": [],
      "source": [
        "baseline_chat = chat_with_model(baseline_model)"
      ]
    },
    {
      "cell_type": "markdown",
      "metadata": {
        "id": "2dkZ4zTsq_lH"
      },
      "source": [
        "### 3.2 Top-$p$ Sampling\n",
        "\n",
        "How exactly to draw samples from a language model distribution is an area of ongoing research, in this section we will implement **nucleus sampling** as originally proposed by Holtzman et al., 2020. This is the standard decoding method for most NLP applications, including industry tools like ChatGPT.\n",
        "\n",
        "Recall our model predicts the probability distribution $P(x|x_{1:i-1})$ over a vocabulary $V$ tokens. Nucleus sampling will draw from a subset of the vocabulary $V^{(p)} \\subset V$ which is the smallest set such that:\n",
        "\n",
        "$$\\sum_{x \\in V^{(p)}} P(x | x_{1:i-1}) \\geq p$$\n",
        "\n",
        "i.e., the output vocabulary will include all most probable tokens until the total probability exceeds $p$, all the lower probability tokens will be thrown out. Now that we have a smaller set of outputs, we need to normalize their probabilities. So given the total probability mass of the new set $p' = \\sum_{x \\in V^{(p)}} P(x | x_{1:i-1})$, our final next token probabilities will be:\n",
        "\n",
        "$$\n",
        "P'(x|x_{1:i-1}) =\n",
        "\\begin{cases}\n",
        "P(x|x_{1:i-1})/p' & \\text{if } x \\in V^{(p)} \\\\\n",
        "0 & \\text{otherwise}\n",
        "\\end{cases}$$\n",
        "\n",
        "Additionally, most sampling methods will modify the probability distribution using **temperature**. The temperature will make make generation more stochastic by flattening the probability distribution. This is done before truncating the distribution using top-$p$. Given a temperature parameter $t$ and output logits $u_{1:|V|}$, we apply temperature by re-computing the last softmax layer as:\n",
        "\n",
        "$$p(x = V|x_{1:i-1}) = \\frac{ \\exp(u_l/t) }{ \\sum_{l'}\\exp(u'_l/t')}$$\n",
        "\n",
        "**For this section, you will use the output logits of your model, and re-compute the final token probability distribution using temperature, then truncate the distribution using nucleus sampling.**\n",
        "\n",
        "For more information, I highly recommend reading sec. 3 of the original paper:\n",
        "\n",
        "[The Curious Case of Neural Text Degeneration](https://openreview.net/forum?id=rygGQyrFvH) (Holtzman et al., ICLR 2020)"
      ]
    },
    {
      "cell_type": "code",
      "execution_count": null,
      "metadata": {
        "id": "33nlueyWvUM4"
      },
      "outputs": [],
      "source": [
        "def predict_top_p(model, sentence, temperature=0.9, top_p=0.9, max_length=100):\n",
        "    \"\"\"\n",
        "    Make predictions for the given input using top-p sampling.\n",
        "\n",
        "    First, you will use temperature to re-compute the softmax by re-shaping\n",
        "    the distribution of logits. Then, you will calculate the candidates whose total\n",
        "    probability mass is >= p. Lastly, you will normalize and sample from your\n",
        "    truncated distribution.\n",
        "\n",
        "    Hint: you can re-use your greedy search implementation for this question. Only the\n",
        "    area under \"TOP-P IMPLEMENTATION\" will be different.\n",
        "\n",
        "    Hint: you may find torch.multinomial() helpful for sampling from the probability distribution\n",
        "    \"\"\"\n",
        "    model.eval()\n",
        "    generation = None\n",
        "\n",
        "    ### BEGIN YOUR CODE ###\n",
        "\n",
        "    # Forward input through encoder model\n",
        "\n",
        "    # Prepare encoder's final hidden layer to be first hidden input to the decoder\n",
        "\n",
        "    # Initialize decoder input with SOS_token\n",
        "\n",
        "    # Initialize tensors to append decoded words to\n",
        "\n",
        "    # Iteratively decode one word token at a time\n",
        "\n",
        "        # Forward pass through decoder\n",
        "\n",
        "        ### BEGIN TOP-P IMPLEMENTATION ###\n",
        "\n",
        "        # [~2 lines] Apply temperature scaling to the logits to get token probabilities\n",
        "\n",
        "        # [~1 line] Sort logits in descending order (most to least probable)\n",
        "\n",
        "        # [~1 line] Calculate the cumulative sum of the token probabilities\n",
        "\n",
        "        # [~1 line] Find the index where cumulative probability crosses top-p threshold\n",
        "\n",
        "        # [~2 line] Set the probabilities of all tokens after the top-p threshold to -inf\n",
        "\n",
        "        # [~4 lines] Re-compute the softmax of token probabilities and sample from the remaining logits\n",
        "        # if all tokens are under the cutoff, return the most probable token from the original outputs (i.e. degenerate\n",
        "        # to greedy search)\n",
        "\n",
        "\n",
        "        ### END TOP-P IMPLEMENTATION ###\n",
        "\n",
        "        # Record token and score\n",
        "\n",
        "        # Prepare current token to be next decoder input (add a dimension)\n",
        "\n",
        "    # Return collections of word tokens and scores\n",
        "\n",
        "    ### END YOUR CODE ###\n",
        "\n",
        "    return generation"
      ]
    },
    {
      "cell_type": "code",
      "source": [
        "# baseline_chat = chat_with_model(baseline_model, mode='top-p')"
      ],
      "metadata": {
        "id": "OuCAsI4R24XS"
      },
      "execution_count": null,
      "outputs": []
    },
    {
      "cell_type": "markdown",
      "source": [
        "Great! Let's play around with our baseline model at different parameters. Feel free to change the prompt or parameters."
      ],
      "metadata": {
        "id": "IYG84Z9-AYMR"
      }
    },
    {
      "cell_type": "code",
      "source": [
        "PROMPT = 'What is your name?'\n",
        "\n",
        "print(f'Greedy decoding:\\t{predict_greedy(baseline_model, PROMPT)}\\n')\n",
        "\n",
        "for t in [0.00001, 0.1, 0.5, 0.9, 1.5]:\n",
        "  for _ in range(5):\n",
        "    generation = predict_top_p(baseline_model, PROMPT, temperature=t, top_p=1)\n",
        "    print(f'Temperature {t}:\\t{generation}')\n",
        "  print()"
      ],
      "metadata": {
        "id": "FTnZEiFgAY5e"
      },
      "execution_count": null,
      "outputs": []
    },
    {
      "cell_type": "markdown",
      "source": [
        "How does changing the temperature impact generation? How does this compare to greedy decoding? Feel free to take a look at the nucleus sampling paper (from above) for inspiration into why this may occur.\n",
        "\n",
        "ANSWER: [**Report your findings here.**]"
      ],
      "metadata": {
        "id": "vOjaREVVAZ1s"
      }
    },
    {
      "cell_type": "markdown",
      "source": [
        "Now, let's keep the temperature fairly high ($\\tau=1$) and sample at different values for $p$."
      ],
      "metadata": {
        "id": "m1IBeKhoAbnt"
      }
    },
    {
      "cell_type": "code",
      "source": [
        "for p in [1, 0.9, 0.8, 0.5, 0.2]:\n",
        "  for _ in range(10):\n",
        "    generation = predict_top_p(baseline_model, PROMPT, temperature=1, top_p=p)\n",
        "    print(f'Top-p {p}:\\t{generation}')\n",
        "  print()"
      ],
      "metadata": {
        "id": "gBEfyeL3AdNi"
      },
      "execution_count": null,
      "outputs": []
    },
    {
      "cell_type": "markdown",
      "source": [
        "Similar to the above, can you spot differences when changing the top-$p$ parameter in your generations? How is changing top-$p$ different than temperature (both in literally changing token probabilities, but also in its impact on final generation)? Can you think of cases where you may want certain combinations of top-$p$ cutoffs or temperature settings?\n",
        "\n",
        "ANSWER: [**Report your findings here.**]"
      ],
      "metadata": {
        "id": "EqAy5LHMAfwr"
      }
    },
    {
      "cell_type": "markdown",
      "metadata": {
        "id": "WdShLs1VkgAb"
      },
      "source": [
        "## 4. Seq2Seq + Attention Model [15 points]"
      ]
    },
    {
      "cell_type": "markdown",
      "metadata": {
        "id": "b4N4VGarkmH5"
      },
      "source": [
        "Next, we extend the baseline model to include an attention mechanism in the decoder. With attention mechanism, the model doesn't need to encode the input into a fixed dimensional hidden representation. Rather, it creates a new context vector for each turn that is a weighted sum of encoder hidden representation.\n",
        "\n",
        "Your implementation can use any attention mechanism to get weight distribution over the source words. One simple way to include attention in decoder goes as follows (reminder: the decoder processed one token at a time),\n",
        "1. Process the current decoder_input through embedding layer and decoder GRU layer.\n",
        "2. Use the current decoder token representation, $d$ of shape $(1 * b * h)$ and encoder representation, $e_1, \\dots, e_n$ or shape $(n * b * h)$, where $n$ is max_src_length after padding) to compute attention score matrix of shape $(b * n)$. There are multiple options to compute this score matrix. A few of such options are available in [the table provided in this blog](https://lilianweng.github.io/lil-log/2018/06/24/attention-attention.html#a-family-of-attention-mechanisms)\n",
        "3. Normalize the attention scores $(b * n)$ so that they sum up to $1.0$ by taking a `softmax` over the second dimention.\n",
        "\n",
        "After computing the normalized attention distribution, take a weighted sum of the encoder outputs to obtain the attention context $c = \\sum_i w_i e_i$, and add this to the decoder output $d$ to obtain the final representation to be passed to the vocabulary projection layer (you may need another linear layer to make the sizes match before adding $c$ and $d$)."
      ]
    },
    {
      "cell_type": "code",
      "execution_count": null,
      "metadata": {
        "id": "QTJUmIH2iAI7"
      },
      "outputs": [],
      "source": [
        "class Seq2seqAttention(Seq2seqBaseline):\n",
        "    def __init__(self, vocab):\n",
        "        \"\"\"\n",
        "        Initialize any additional parameters needed for this model that are not\n",
        "        already included in the baseline model.\n",
        "        \"\"\"\n",
        "        super().__init__(vocab)\n",
        "\n",
        "        ### BEGIN YOUR CODE ###\n",
        "\n",
        "\n",
        "\n",
        "        ### END YOUR CODE ###\n",
        "\n",
        "    def decode(self, decoder_input, last_hidden, encoder_output, encoder_mask):\n",
        "        \"\"\"\n",
        "        Run the decoder GRU for one decoding step from the last hidden state.\n",
        "\n",
        "        The third and fourth arguments are not used in the baseline model, but are\n",
        "        included for compatibility with the attention model in the next section.\n",
        "\n",
        "        Args:\n",
        "            decoder_input: An integer tensor with shape (1, batch_size) containing\n",
        "                the subword indices for the current decoder input.\n",
        "            last_hidden: A pair of tensors h_{t-1} representing the last hidden\n",
        "                state of the decoder, each with shape (num_layers, batch_size,\n",
        "                hidden_size). For the first decoding step the last_hidden will be\n",
        "                encoder's final hidden representation.\n",
        "            encoder_output: The output of the encoder with shape\n",
        "                (max_src_sequence_length, batch_size, hidden_size).\n",
        "            encoder_mask: The output mask from the encoder with shape\n",
        "                (max_src_sequence_length, batch_size). Encoder outputs at positions\n",
        "                with a True value correspond to padding tokens and should be ignored.\n",
        "\n",
        "        Returns:\n",
        "            A tuple with three elements:\n",
        "                logits: A tensor with shape (batch_size,\n",
        "                    vocab_size) containing unnormalized scores for the next-word\n",
        "                    predictions at each position.\n",
        "                decoder_hidden: tensor h_n with the same shape as last_hidden\n",
        "                    representing the updated decoder state after processing the\n",
        "                    decoder input.\n",
        "                attention_weights: A tensor with shape (batch_size,\n",
        "                    max_src_sequence_length) representing the normalized\n",
        "                    attention weights. This should sum to 1 along the last dimension.\n",
        "        \"\"\"\n",
        "        output, hidden, attn_weights = None, None, None\n",
        "\n",
        "        ### BEGIN YOUR CODE ###\n",
        "\n",
        "        # Note: we run this one step (word) at a time\n",
        "        # Get embedding of current input word\n",
        "\n",
        "        # Forward through unidirectional GRU\n",
        "\n",
        "        # Calculate attention weights from the current GRU output\n",
        "        # encoder_output = self.attn(encoder_output)\n",
        "\n",
        "        # Multiply attention weights to encoder outputs to get new \"weighted sum\" context vector\n",
        "\n",
        "        # Concatenate weighted context vector and GRU output\n",
        "\n",
        "        ### END YOUR CODE ###\n",
        "\n",
        "        return output, hidden, attn_weights"
      ]
    },
    {
      "cell_type": "markdown",
      "metadata": {
        "id": "QTfMgmoHr_zQ"
      },
      "source": [
        "We can now train the attention model.\n",
        "\n",
        "A correct implementation should also get an average train loss of < 3.00  \n",
        "The code will automatically save and download the model at the end of training.\n",
        "\n",
        "It may happen that the baseline model achieves lower loss than attention model. This is because our dataset is very small and the attention model may be over parameterized for our toy dataset. Regardless, we would consider this as acceptable submission if the attention model generated responses look comparable to the baseline model."
      ]
    },
    {
      "cell_type": "code",
      "execution_count": null,
      "metadata": {
        "id": "RzPC4ADNkNgm",
        "colab": {
          "base_uri": "https://localhost:8080/",
          "height": 173
        },
        "outputId": "9890bc24-e398-4cbe-fade-278801b13229"
      },
      "outputs": [
        {
          "output_type": "stream",
          "name": "stderr",
          "text": [
            "epoch 1: 100%|██████████| 830/830 [00:33<00:00, 24.46batch/s, current_loss=3.38, mean_loss=4.22]\n",
            "epoch 2: 100%|██████████| 830/830 [00:32<00:00, 25.62batch/s, current_loss=3.47, mean_loss=3.6]\n",
            "epoch 3: 100%|██████████| 830/830 [00:32<00:00, 25.38batch/s, current_loss=3.54, mean_loss=3.41]\n",
            "epoch 4: 100%|██████████| 830/830 [00:32<00:00, 25.44batch/s, current_loss=3.34, mean_loss=3.26]\n",
            "epoch 5: 100%|██████████| 830/830 [00:32<00:00, 25.83batch/s, current_loss=4.06, mean_loss=3.14]\n",
            "epoch 6: 100%|██████████| 830/830 [00:32<00:00, 25.85batch/s, current_loss=2.62, mean_loss=3.02]\n",
            "epoch 7: 100%|██████████| 830/830 [00:32<00:00, 25.79batch/s, current_loss=3.5, mean_loss=2.91]\n",
            "epoch 8: 100%|██████████| 830/830 [00:33<00:00, 24.52batch/s, current_loss=2.76, mean_loss=2.81]\n",
            "training: 100%|██████████| 8/8 [04:21<00:00, 32.75s/epoch]\n"
          ]
        },
        {
          "output_type": "display_data",
          "data": {
            "text/plain": [
              "<IPython.core.display.Javascript object>"
            ],
            "application/javascript": [
              "\n",
              "    async function download(id, filename, size) {\n",
              "      if (!google.colab.kernel.accessAllowed) {\n",
              "        return;\n",
              "      }\n",
              "      const div = document.createElement('div');\n",
              "      const label = document.createElement('label');\n",
              "      label.textContent = `Downloading \"${filename}\": `;\n",
              "      div.appendChild(label);\n",
              "      const progress = document.createElement('progress');\n",
              "      progress.max = size;\n",
              "      div.appendChild(progress);\n",
              "      document.body.appendChild(div);\n",
              "\n",
              "      const buffers = [];\n",
              "      let downloaded = 0;\n",
              "\n",
              "      const channel = await google.colab.kernel.comms.open(id);\n",
              "      // Send a message to notify the kernel that we're ready.\n",
              "      channel.send({})\n",
              "\n",
              "      for await (const message of channel.messages) {\n",
              "        // Send a message to notify the kernel that we're ready.\n",
              "        channel.send({})\n",
              "        if (message.buffers) {\n",
              "          for (const buffer of message.buffers) {\n",
              "            buffers.push(buffer);\n",
              "            downloaded += buffer.byteLength;\n",
              "            progress.value = downloaded;\n",
              "          }\n",
              "        }\n",
              "      }\n",
              "      const blob = new Blob(buffers, {type: 'application/binary'});\n",
              "      const a = document.createElement('a');\n",
              "      a.href = window.URL.createObjectURL(blob);\n",
              "      a.download = filename;\n",
              "      div.appendChild(a);\n",
              "      a.click();\n",
              "      div.remove();\n",
              "    }\n",
              "  "
            ]
          },
          "metadata": {}
        },
        {
          "output_type": "display_data",
          "data": {
            "text/plain": [
              "<IPython.core.display.Javascript object>"
            ],
            "application/javascript": [
              "download(\"download_05375337-ff7e-44bc-92f5-8f2d92bdf570\", \"attention_model.pt\", 34465372)"
            ]
          },
          "metadata": {}
        }
      ],
      "source": [
        "# You are welcome to adjust these parameters based on your model implementation.\n",
        "num_epochs = 8\n",
        "batch_size = 64\n",
        "\n",
        "data_loader = DataLoader(dataset=dataset, batch_size=batch_size, shuffle=True, collate_fn=collate_fn)\n",
        "attention_model = Seq2seqAttention(vocab).to(device)\n",
        "train(attention_model, data_loader, num_epochs, \"attention_model.pt\")\n",
        "\n",
        "# Download the trained model to local for future use\n",
        "files.download('attention_model.pt')"
      ]
    },
    {
      "cell_type": "code",
      "execution_count": null,
      "metadata": {
        "id": "t95mGiCCxaD0",
        "colab": {
          "base_uri": "https://localhost:8080/"
        },
        "outputId": "47f6b1ca-dc23-46a0-9096-6fa7c6378cfc"
      },
      "outputs": [
        {
          "output_type": "execute_result",
          "data": {
            "text/plain": [
              "<All keys matched successfully>"
            ]
          },
          "metadata": {},
          "execution_count": 26
        }
      ],
      "source": [
        "# Reload the model from the model file.\n",
        "# Useful when you have already trained and saved the model\n",
        "attention_model = Seq2seqAttention(vocab).to(device)\n",
        "attention_model.load_state_dict(torch.load(\"attention_model.pt\", map_location=device))"
      ]
    },
    {
      "cell_type": "markdown",
      "metadata": {
        "id": "Gt11szXtsruf"
      },
      "source": [
        "Let's test the attention model on the same inputs as baseline model."
      ]
    },
    {
      "cell_type": "code",
      "execution_count": null,
      "metadata": {
        "id": "06W_twUH_fWj"
      },
      "outputs": [],
      "source": [
        "def test_conversations_with_model(model, conversational_inputs = None, include_beam = False):\n",
        "    \"\"\"\n",
        "    Some predefined conversational inputs.\n",
        "    You may append more inputs at the end of the list, if you want to.\n",
        "    \"\"\"\n",
        "    basic_conversational_inputs = [\n",
        "      \"hello.\",\n",
        "      \"please share you bank account number with me\",\n",
        "      \"i have never met someone more annoying that you\",\n",
        "      \"i like pizza. what do you like?\",\n",
        "      \"give me coffee, or i'll hate you\",\n",
        "      \"i'm so bored. give some suggestions\",\n",
        "      \"stop running or you'll fall hard\",\n",
        "      \"what is your favorite sport?\",\n",
        "      \"do you believe in a miracle?\",\n",
        "      \"which sport team do you like?\"\n",
        "    ]\n",
        "\n",
        "    if not conversational_inputs:\n",
        "        conversational_inputs = basic_conversational_inputs\n",
        "    for input in conversational_inputs:\n",
        "        print(f\"Input > {input}\")\n",
        "        generation = predict_greedy(model, input)\n",
        "        print('Greedy Response:', generation)\n",
        "        if include_beam:\n",
        "            # Also print the beam search responses from models\n",
        "            generations = predict_beam(model, input)\n",
        "            print('Beam Responses:')\n",
        "            print_list(generations)\n",
        "        print()"
      ]
    },
    {
      "cell_type": "code",
      "execution_count": null,
      "metadata": {
        "id": "i-Z4hBdxp-RE"
      },
      "outputs": [],
      "source": [
        "baseline_chat_inputs = [inp for inp, gen in baseline_chat]\n",
        "attention_chat = test_conversations_with_model(attention_model, baseline_chat_inputs)"
      ]
    },
    {
      "cell_type": "markdown",
      "metadata": {
        "id": "65xXyT8_twbK"
      },
      "source": [
        "## 5. Decoding w/ Beam Search [20 points]"
      ]
    },
    {
      "cell_type": "markdown",
      "metadata": {
        "id": "AQCpBhM3t10o"
      },
      "source": [
        "Similar to greedy search, beam search generates one token at a time. However, rather than keeping only the single best hypothesis, we instead keep the top $k$ candidates at each time step. This is accomplished by computing the set of next-token extensions for each item on the beam and finding the top $k$ across all candidates according to total log-probability.\n",
        "\n",
        "Candidates that are finished should be extracted in a final list of `generations` and removed from the beam. This strategy is useful for doing re-ranking the beam candidates using alternate scorers (example, Maximum Mutual Information Objective from [Li et. al. 2015](https://arxiv.org/pdf/1510.03055.pdf)). For this assignment, you will re-rank the beam generations as follows:\n",
        "\n",
        "$$\\text{final_score}_i = \\frac{\\text{score}_i}{|\\text{generation}_i|^\\alpha}$$\n",
        "\n",
        "where $\\alpha \\in [0.5, 2]$. Terminate the search process once you have $k$ items in the `generations` list."
      ]
    },
    {
      "cell_type": "code",
      "execution_count": null,
      "metadata": {
        "id": "r9uz-n9RvbYm"
      },
      "outputs": [],
      "source": [
        "def predict_beam(model, sentence, k=5, max_length=100):\n",
        "    \"\"\"Make predictions for the given inputs using beam search.\n",
        "\n",
        "    Args:\n",
        "        model: A sequence-to-sequence model.\n",
        "        sentence: An input sentence, represented as string.\n",
        "        k: The size of the beam.\n",
        "        max_length: The maximum length at which to truncate outputs in order to\n",
        "            avoid non-terminating inference.\n",
        "\n",
        "    Returns:\n",
        "        A list of k beam predictions. Each element in the list should be a string\n",
        "        corresponding to one of the top k predictions for the corresponding input,\n",
        "        sorted in descending order by its final score.\n",
        "\n",
        "    Implementation tip: once an eos_token has been generated for any beam,\n",
        "    remove its subsequent predictions from that beam by adding a small negative\n",
        "    number like -1e9 to the appropriate logits. This will ensure that the\n",
        "    candidates are removed from the beam, as its probability will be very close\n",
        "    to 0. Using this method, uou will be able to reuse the beam of an already\n",
        "    finished candidate\n",
        "\n",
        "    Implementation tip: while you are encouraged to keep your tensor dimensions\n",
        "    constant for simplicity (aside from the sequence length), some special care\n",
        "    will need to be taken on the first iteration to ensure that your beam\n",
        "    doesn't fill up with k identical copies of the same candidate.\n",
        "    \"\"\"\n",
        "\n",
        "    # You are welcome to tweak alpha\n",
        "    alpha = 0.7\n",
        "    model.eval()\n",
        "\n",
        "    generation = None\n",
        "\n",
        "    ### BEGIN YOUR CODE ###\n",
        "\n",
        "\n",
        "\n",
        "    ### END YOUR CODE ###\n",
        "\n",
        "    return generation"
      ]
    },
    {
      "cell_type": "markdown",
      "metadata": {
        "id": "H-ugmcEJS2KR"
      },
      "source": [
        "Now let's test both baseline and attention models on some predefined inputs and compare their greedy and beam responses side by side."
      ]
    },
    {
      "cell_type": "code",
      "execution_count": null,
      "metadata": {
        "id": "Z5latq5wAahX"
      },
      "outputs": [],
      "source": [
        "test_conversations_with_model(baseline_model, include_beam=True)"
      ]
    },
    {
      "cell_type": "code",
      "execution_count": null,
      "metadata": {
        "id": "J2OPC1FCAxLN"
      },
      "outputs": [],
      "source": [
        "test_conversations_with_model(attention_model, include_beam=True)"
      ]
    },
    {
      "cell_type": "markdown",
      "metadata": {
        "id": "j-CyLa-dO3pe"
      },
      "source": [
        "## 6. Automatic Evaluation [5 points]"
      ]
    },
    {
      "cell_type": "markdown",
      "metadata": {
        "id": "CJG6TYU6PDMH"
      },
      "source": [
        "Automatic evaluation of chatbots is an active research area. For this assignment we are going to use 3 very simple evaluation metrics.\n",
        "1. Average Length of the Responses\n",
        "2. `Distinct-1` = proportion of unique unigrams / total unigrams\n",
        "3. `Distinct-2` = proportion of unique bigrams / total bigrams\n",
        "You will evaluate your baseline and attention models by running the cells below."
      ]
    },
    {
      "cell_type": "code",
      "execution_count": null,
      "metadata": {
        "id": "-ZHWxMhnHW4g"
      },
      "outputs": [],
      "source": [
        "def evaluate_diversity(model, mode=\"greedy\"):\n",
        "    \"\"\"\n",
        "    Evaluates the model's greedy or beam responses on eval_conversations\n",
        "\n",
        "    Args:\n",
        "        model: A sequence-to-sequence model.\n",
        "        mode: \"greedy\" or \"beam\"\n",
        "\n",
        "    Returns: avg_length, distinct1, distinct2\n",
        "        avg_length: average length of the model responses\n",
        "        distinct1: proportion of unique unigrams / total unigrams\n",
        "        distinct2: proportion of unique bigrams / total bigrams\n",
        "    \"\"\"\n",
        "    if mode == \"beam\":\n",
        "        predict_f = predict_beam\n",
        "    else:\n",
        "        predict_f = predict_greedy\n",
        "    generations = list()\n",
        "    for src, tgt in eval_conversations:\n",
        "        generation = predict_f(model, src)\n",
        "        if mode == \"beam\":\n",
        "            generation = generation[0]\n",
        "        generations.append(generation)\n",
        "\n",
        "    ### BEGIN YOUR CODE ###\n",
        "\n",
        "    # Calculate average length, distinct unigrams and bigrams from generations\n",
        "\n",
        "    ### END YOUR CODE ###\n",
        "\n",
        "    return avg_length, distinct1, distinct2"
      ]
    },
    {
      "cell_type": "code",
      "execution_count": null,
      "metadata": {
        "id": "UErLX0EPHY2j"
      },
      "outputs": [],
      "source": [
        "print(f\"Baseline Model evaluation:\")\n",
        "avg_length, distinct1, distinct2 = evaluate_diversity(baseline_model)\n",
        "\n",
        "print(f\"Greedy decoding:\")\n",
        "print(f\"Avg Response Length = {avg_length}\")\n",
        "print(f\"Distinct1 = {distinct1}\")\n",
        "print(f\"Distinct2 = {distinct2}\")\n",
        "\n",
        "avg_length, distinct1, distinct2 = evaluate_diversity(baseline_model, mode=\"beam\")\n",
        "print(f\"Beam decoding:\")\n",
        "print(f\"Avg Response Length = {avg_length}\")\n",
        "print(f\"Distinct1 = {distinct1}\")\n",
        "print(f\"Distinct2 = {distinct2}\")"
      ]
    },
    {
      "cell_type": "code",
      "execution_count": null,
      "metadata": {
        "id": "3ac_hU2STf_c"
      },
      "outputs": [],
      "source": [
        "print(f\"Attention Model evaluation:\")\n",
        "\n",
        "avg_length, distinct1, distinct2 = evaluate_diversity(attention_model)\n",
        "print(f\"Greedy decoding:\")\n",
        "print(f\"Avg Response Length = {avg_length}\")\n",
        "print(f\"Distinct1 = {distinct1}\")\n",
        "print(f\"Distinct2 = {distinct2}\")\n",
        "avg_length, distinct1, distinct2 = evaluate_diversity(attention_model, mode=\"beam\")\n",
        "\n",
        "print(f\"Beam decoding:\")\n",
        "print(f\"Avg Response Length = {avg_length}\")\n",
        "print(f\"Distinct1 = {distinct1}\")\n",
        "print(f\"Distinct2 = {distinct2}\")"
      ]
    },
    {
      "cell_type": "markdown",
      "source": [
        "## 7. Fine-tuned Decoder Model [Extra Credit - 5 points]\n",
        "\n",
        "As discussed in the last homework, most downstream NLP applications (such as a chatbot) no longer train models from scratch. Instead, it’s far more powerful to pre-train a model on a self-supervised task, then fine-tune the model on a downstream task. In project 2, we looked at using **BERT** (a pre-trained transformer *encoder*) for a classification task. In this project, we will use **GPT** (a pre-trained transformer *decoder*) for text generation. Eventually, these decoder models were scaled to a much larger size than the transformer encoders, with [now many publicly available variations of this family of models](https://huggingface.co/models?pipeline_tag=text-generation&sort=downloads).\n",
        "\n",
        "**[Improving language understanding with unsupervised learning](https://openai.com/research/language-unsupervised)** (OpenAI, 2018)\n",
        "\n",
        "**In this section, we will fine-tune a large pre-trained decoder model for our downstream dialogue task. You will initialize the configuration for LoRA using the parameter efficient fine-tuning library `peft` and load our base model with 4 bit precision using the quantization library `bitsandbytes`.**"
      ],
      "metadata": {
        "id": "XD5VVrbkQCxA"
      }
    },
    {
      "cell_type": "code",
      "source": [
        "!pip install -q accelerate peft bitsandbytes transformers trl"
      ],
      "metadata": {
        "id": "WjyLxr6qHP1s"
      },
      "execution_count": null,
      "outputs": []
    },
    {
      "cell_type": "code",
      "source": [
        "import os\n",
        "import torch\n",
        "\n",
        "from datasets import load_dataset\n",
        "from transformers import AutoModelForCausalLM, AutoTokenizer, BitsAndBytesConfig, HfArgumentParser, TrainingArguments, pipeline, logging\n",
        "from peft import LoraConfig, PeftModel\n",
        "from trl import SFTTrainer\n",
        "from trl.trainer import ConstantLengthDataset"
      ],
      "metadata": {
        "id": "IgyWjLD1HQCM"
      },
      "execution_count": null,
      "outputs": []
    },
    {
      "cell_type": "code",
      "source": [
        "# Let's check the GPU configuraiton and instance type\n",
        "!nvidia-smi"
      ],
      "metadata": {
        "id": "n3A1_4ylHQE9"
      },
      "execution_count": null,
      "outputs": []
    },
    {
      "cell_type": "markdown",
      "source": [
        "### 7.1 Preprocess Data for Fine-Tuning\n",
        "\n",
        "For this section, we are instead going to use a small set of the Guanaco dataset, which includes high quality instructions (but more importantly is *packed*, which helps with our training setup).\n",
        "\n",
        "[**Guanaco - Generative Universal Assistant for Natural-language Adaptive Context-aware Omnilingual outputs**](https://guanaco-model.github.io/) (2023)"
      ],
      "metadata": {
        "id": "akmx9_hvHSk0"
      }
    },
    {
      "cell_type": "code",
      "source": [
        "DATASET_NAME = \"mlabonne/guanaco-llama2-1k\"\n",
        "dataset = load_dataset(DATASET_NAME, split=\"train\")"
      ],
      "metadata": {
        "id": "4CdNDL1HHT3v"
      },
      "execution_count": null,
      "outputs": []
    },
    {
      "cell_type": "code",
      "source": [
        "# Let's take a look at one of the entries in our dataset\n",
        "dataset[0]"
      ],
      "metadata": {
        "id": "rziJn3iAHUw8"
      },
      "execution_count": null,
      "outputs": []
    },
    {
      "cell_type": "markdown",
      "source": [
        "### 7.2 Setup Model w/ 4 Bit and LoRA\n",
        "\n",
        "If you are using the basic T4 instance type, you can see we only have 16GB of GPU memory, yet LLaMA 7B takes around 28 GB simply to load into memory. (see meta-llama/Llama-2-7b-chat-hf). This doesn’t include fine-tuning! Luckily, we can get around this limitation by borrowing a few concepts from computer vision: **Low Rank Adaptation** (LoRA) and **4-bit Quantization**."
      ],
      "metadata": {
        "id": "PyWpXBJpHVm0"
      }
    },
    {
      "cell_type": "markdown",
      "source": [
        "To begin, let's discuss quantization. By default, most language model weights are trained in 16-bit or 32-bit floating point tensors (some models even train different layers with different precisions). However, due to the sheer size of language models, often this precision isn’t needed or used at inference time. Thus, quantization simply converts the high precision model weights to low precision: typically 16 or 8 bit, but in our case we can even use 4-bit integers. Thus, with GPUs which have instruction sets compatible with 4-bit matrices (e.g., any GPUs offered in Google Collab), we can load a significantly larger model on the same GPU. *See the below papers for a further discussion, as well as potential impacts of quanitzation on generation/model quality.*\n",
        "\n",
        "<img src=\"https://huggingface.co/datasets/huggingface/documentation-images/resolve/main/blog/bitsandbytes/FP8-scheme.png\" alt=\"Quant\" width=\"500px\">\n",
        "\n",
        "**[QLoRA: Efficient Finetuning of Quantized LLMs](https://arxiv.org/abs/2305.14314)** (arXiv, 2023)\n",
        "\n",
        "**[The case for 4-bit precision: k-bit Inference Scaling Laws](https://arxiv.org/abs/2212.09720)** (arXiv, 2022)"
      ],
      "metadata": {
        "id": "t8ZTW_5dHZwm"
      }
    },
    {
      "cell_type": "code",
      "source": [
        "# Initialize quantization configuration. While you may play around with the\n",
        "# configuraiton, this is not a design choice, simply depends on your GPU setup.\n",
        "USE_4BIT = True\n",
        "COMPUTE_DTYPE = \"float16\"\n",
        "QUANTIZATION_TYPE = \"nf4\"\n",
        "USE_NESTED_QUANTIZATION = False\n",
        "\n",
        "bnb_config = BitsAndBytesConfig(\n",
        "    load_in_4bit=USE_4BIT,\n",
        "    bnb_4bit_quant_type=QUANTIZATION_TYPE,\n",
        "    bnb_4bit_compute_dtype=COMPUTE_DTYPE,\n",
        "    bnb_4bit_use_double_quant=USE_NESTED_QUANTIZATION,\n",
        ")\n",
        "\n",
        "# Check GPU compatibility with bfloat16\n",
        "major, _ = torch.cuda.get_device_capability()\n",
        "if major >= 8:\n",
        "    print(\"=\" * 80)\n",
        "    print(\"Your GPU supports bfloat16: accelerate training with bf16=True\")\n",
        "    print(\"=\" * 80)"
      ],
      "metadata": {
        "id": "zMRGJAB6HaqG"
      },
      "execution_count": null,
      "outputs": []
    },
    {
      "cell_type": "markdown",
      "source": [
        "Now we have initialized our `bitsandbytes` configuration, let's load our base model from Huggingface. To start, we will use [`distilgpt2`](https://huggingface.co/distilgpt2), a compressed version of the 100M parameter GPT-2 model. If you are looking to use a more recent model, feel free to try [`meta-llama/Llama-2-7b-chat-hf`](https://huggingface.co/meta-llama/Llama-2-7b-chat-hf)."
      ],
      "metadata": {
        "id": "vEfqn1CFHawc"
      }
    },
    {
      "cell_type": "code",
      "source": [
        "# Load base model\n",
        "MODEL_NAME = \"distilgpt2\"\n",
        "# MODEL_NAME = \"NousResearch/Llama-2-7b-chat-hf\"\n",
        "# MODEL_NAME = \"facebook/opt-1.3b\"\n",
        "\n",
        "DEVICE_MAP = {\"\": 0}\n",
        "\n",
        "model = AutoModelForCausalLM.from_pretrained(\n",
        "    MODEL_NAME,\n",
        "    quantization_config=bnb_config,\n",
        "    device_map=DEVICE_MAP\n",
        ")\n",
        "model.config.use_cache = False\n",
        "model.config.pretraining_tp = 1\n",
        "\n",
        "# Load tokenizer\n",
        "tokenizer = AutoTokenizer.from_pretrained(\n",
        "    MODEL_NAME,\n",
        "    trust_remote_code=True,\n",
        "    use_fast=True\n",
        ")\n",
        "tokenizer.pad_token = tokenizer.eos_token\n",
        "tokenizer.padding_side = \"right\""
      ],
      "metadata": {
        "id": "lEuLkR4oHdM0"
      },
      "execution_count": null,
      "outputs": []
    },
    {
      "cell_type": "markdown",
      "source": [
        "Low rank adaptation is a method of training a separate weight matrix on top of *any* individual model layer. Think of it like this: If we take a weight matrix $W\\in \\mathbb{R}^{d\\times d}$, we can create a two matrices $A\\in \\mathbb{R}^{d\\times r}$ and $B\\in \\mathbb{R}^{r\\times d}$ such that multiplying these matrices together gives the same dimensionality as the original weight matrix. Thus, both $A$ and $B$ are trainable weights which are much smaller than our original model! At training time, we freeze all the model weights except for our new LoRA weights and can thus train only our additional weights with very little overhead.\n",
        "\n",
        "![](https://miro.medium.com/v2/resize:fit:299/1*BCs63SXaAu3NKqUaTLTH2g.png)\n",
        "\n",
        "However, this means we have two new decisions to make: we must decide (i) which layers to apply the weights and (ii) the size of the inner dimension $r$.In the case of our transformer models, we can apply LoRA to specific matrices within the multi-headed attention mechanism.\n",
        "\n",
        "<img src=\"https://www.catalyzex.com/_next/image?url=https%3A%2F%2Fd3i71xaburhd42.cloudfront.net%2F38258a93151d57a073fe5cfccefd443863942478%2F2-Figure1-1.png&w=640&q=75\" alt=\"Quant\" width=\"500px\">\n",
        "\n",
        "**[LoRA: Low-Rank Adaptation of Large Language Models](https://arxiv.org/abs/2106.09685)** (Microsoft Research, 2021)"
      ],
      "metadata": {
        "id": "Px9huHrwHi55"
      }
    },
    {
      "cell_type": "code",
      "source": [
        "# Take a look at your model\n",
        "model"
      ],
      "metadata": {
        "id": "fEpD4c_-HkBU"
      },
      "execution_count": null,
      "outputs": []
    },
    {
      "cell_type": "code",
      "source": [
        "# Initialize your LoRA hyperparameters\n",
        "ADAPTER_NAME = \"lora_adapter\"\n",
        "\n",
        "### BEGIN YOUR CODE ###\n",
        "\n",
        "LORA_DROPOUT = None\n",
        "LORA_ALPHA = None\n",
        "LORA_R = None\n",
        "TARGET_MODULES = None\n",
        "\n",
        "### END YOUR CODE ###\n",
        "\n",
        "# Load LoRA configuration\n",
        "peft_config = LoraConfig(\n",
        "    lora_alpha=LORA_ALPHA,\n",
        "    lora_dropout=LORA_DROPOUT,\n",
        "    r=LORA_R,\n",
        "    target_modules=TARGET_MODULES,\n",
        "    task_type=\"CAUSAL_LM\",\n",
        "    bias=\"none\"\n",
        ")\n",
        "\n",
        "# Add the LoRA adapter to your model and freeze all other weights\n",
        "model.add_adapter(peft_config, adapter_name=ADAPTER_NAME)\n",
        "model.set_adapter(ADAPTER_NAME)"
      ],
      "metadata": {
        "id": "-j1t9rFrHl9y"
      },
      "execution_count": null,
      "outputs": []
    },
    {
      "cell_type": "code",
      "source": [
        "# Now we have applied the adapter, let's take another look at our model!\n",
        "model"
      ],
      "metadata": {
        "id": "itQr7Ph_HmA8"
      },
      "execution_count": null,
      "outputs": []
    },
    {
      "cell_type": "markdown",
      "source": [
        "### 7.3 Fine-tuning"
      ],
      "metadata": {
        "id": "6X7Te6tMHxl7"
      }
    },
    {
      "cell_type": "code",
      "source": [
        "# Number of training epochs\n",
        "num_train_epochs = 1\n",
        "\n",
        "### BEGIN YOUR CODE ###\n",
        "\n",
        "# Select hyperparameters for learning rate\n",
        "optimizer = None                      # Type of optimizer\n",
        "max_grad_norm = None                 # Maximum gradient normal (gradient clipping)\n",
        "learning_rate = None                 # Initial learning rate\n",
        "weight_decay = None                  # Weight decay to apply to all layers except bias/LayerNorm weights\n",
        "\n",
        "### END YOUR CODE ###\n",
        "\n",
        "# Select hyperparameters for learning rate scheduler\n",
        "lr_scheduler_type = \"cosine\"          # Learning rate schedule type\n",
        "warmup_ratio = 0.03                   # Ratio of steps for a linear warmup (from 0 to learning rate)\n",
        "\n",
        "# Etc. training configurations (ajudst for your compute requirements accordingly)\n",
        "fp16 = False                          # Enable fp16/bf16 training\n",
        "bf16 = False\n",
        "if MODEL_NAME == \"distilgpt2\":\n",
        "    per_device_train_batch_size = 8   # Batch size per GPU for training\n",
        "elif MODEL_NAME == \"NousResearch/Llama-2-7b-chat-hf\":\n",
        "    per_device_train_batch_size = 1\n",
        "elif MODEL_NAME == \"facebook/opt-1.3b\":\n",
        "    per_device_train_batch_size = 2\n",
        "gradient_accumulation_steps = 1       # Number of update steps to accumulate the gradients for\n",
        "gradient_checkpointing = True         # Enable gradient checkpointing\n",
        "save_steps = 0                        # Save checkpoint every X updates steps\n",
        "logging_steps = 25                    # Log every X updates steps\n",
        "\n",
        "# Options for supervised fine-tuning with TRL\n",
        "max_seq_length = 512\n",
        "group_by_length = True                # Group sequences into batches with same length\n",
        "packing = False                       # Pack multiple short examples in the same input sequence to increase efficiency\n",
        "\n",
        "training_arguments = TrainingArguments(\n",
        "    output_dir='.',\n",
        "    num_train_epochs=num_train_epochs,\n",
        "    per_device_train_batch_size=per_device_train_batch_size,\n",
        "    gradient_accumulation_steps=gradient_accumulation_steps,\n",
        "    optim=optimizer,\n",
        "    save_steps=save_steps,\n",
        "    logging_steps=logging_steps,\n",
        "    learning_rate=learning_rate,\n",
        "    weight_decay=weight_decay,\n",
        "    fp16=fp16,\n",
        "    bf16=bf16,\n",
        "    max_grad_norm=max_grad_norm,\n",
        "    max_steps=-1,\n",
        "    warmup_ratio=warmup_ratio,\n",
        "    group_by_length=group_by_length,\n",
        "    lr_scheduler_type=lr_scheduler_type\n",
        ")"
      ],
      "metadata": {
        "id": "ZLQTK5TZH3ug"
      },
      "execution_count": null,
      "outputs": []
    },
    {
      "cell_type": "code",
      "source": [
        "# Begin our training loop with the managed SFT library\n",
        "trainer = SFTTrainer(\n",
        "    model=model,\n",
        "    train_dataset=dataset,\n",
        "    dataset_text_field=\"text\",\n",
        "    max_seq_length=max_seq_length,\n",
        "    tokenizer=tokenizer,\n",
        "    args=training_arguments,\n",
        "    packing=packing,\n",
        ")\n",
        "\n",
        "trainer.train()"
      ],
      "metadata": {
        "id": "fQ4ffs95H3xK"
      },
      "execution_count": null,
      "outputs": []
    },
    {
      "cell_type": "markdown",
      "source": [
        "### 7.4 Inference\n",
        "\n",
        "In this section, you will generate samples using your model so we can compare to the previous sections."
      ],
      "metadata": {
        "id": "Gf6vasf7ILur"
      }
    },
    {
      "cell_type": "code",
      "source": [
        "def gpt_inference(model, tokenizer, text, text_preprocessing_fn=None):\n",
        "    \"\"\"\n",
        "    Evaluates the model's greedy or beam responses on eval_conversations\n",
        "\n",
        "    Args:\n",
        "        model: A sequence-to-sequence model.\n",
        "        tokenizer: A tokenizer for the model.\n",
        "        text (str): Input prompt to model.\n",
        "        text_preprocessing_fn (optional): Function for preprocessing text string.\n",
        "\n",
        "    Returns: generated_text\n",
        "        generated_text (str): output code generated by model\n",
        "    \"\"\"\n",
        "    if text_preprocessing_fn is not None:\n",
        "        text = text_preprocessing_fn(text)\n",
        "\n",
        "    generated_text = None\n",
        "\n",
        "    ### BEGIN YOUR CODE ###\n",
        "\n",
        "\n",
        "\n",
        "    ### END YOUR CODE ###\n",
        "\n",
        "    return generated_text"
      ],
      "metadata": {
        "id": "VeHxuwKSIKv7"
      },
      "execution_count": null,
      "outputs": []
    },
    {
      "cell_type": "code",
      "source": [
        "tokenizer.pad_token_id = tokenizer.eos_token_id\n",
        "\n",
        "sample_texts = ['Tell me about your day.',\n",
        "                'Hi, how are you?',\n",
        "                'We have to stop him before he blows up the village!',\n",
        "                'It\\'s a matter of life and death.',\n",
        "                'We really should get going.']\n",
        "\n",
        "for text in sample_texts:\n",
        "    result = gpt_inference(model, tokenizer, text)\n",
        "    print(result)\n",
        "    print('-----------------')"
      ],
      "metadata": {
        "id": "2N3t5pmTINsg"
      },
      "execution_count": null,
      "outputs": []
    },
    {
      "cell_type": "markdown",
      "source": [
        "### 7.5 Analysis\n",
        "\n",
        "In the cell below, type in the results of the default sample texts from the previous cell for all three models. Then, discuss differences between each model's responses. Although these models are all technically transformer decoders, their outputs vary dramatically. How may this relate to their pre-training data, size or other factors? Feel free to reference / cite their Huggingface model cards or original research papers for more detail."
      ],
      "metadata": {
        "id": "sWwrW_ioIVaK"
      }
    },
    {
      "cell_type": "markdown",
      "source": [
        "**GPT2 responses.**\n",
        "\n",
        "(your responses here)\n",
        "\n",
        "**Llama responses.**\n",
        "\n",
        "(your responses here)\n",
        "\n",
        "**OPT responses.**\n",
        "\n",
        "(your responses here)\n",
        "\n",
        "**Response Comparisons.**\n",
        "\n",
        "(your analysis here)"
      ],
      "metadata": {
        "id": "qqPRyleNIWtr"
      }
    },
    {
      "cell_type": "markdown",
      "source": [
        "**Jailbreaking prompts**\n",
        "\n",
        "An unsolved problem in current LLM systems is jailbreaking - writing adversarial prompts in order to elicit unwanted responses, such as toxic comments or leakage of personal information. Using any of the three previous models, come up with two different jailbreaking prompts and write their responses in the cells below.\n",
        "\n",
        "If you'd like to learn more about jailbreaking, then this paper might be of interest:\n",
        "\n",
        "[**Jailbroken: How Does LLM Safety Training Fail?**](https://arxiv.org/abs/2307.02483) (preprint, 2023)\n"
      ],
      "metadata": {
        "id": "WIK9wJYQIaRc"
      }
    },
    {
      "cell_type": "code",
      "source": [
        "jailbroken_prompts = []\n",
        "\n",
        "for text in jailbroken_prompts:\n",
        "    result = gpt_inference(model, tokenizer, text)\n",
        "    print(result)\n",
        "    print('-----------------')"
      ],
      "metadata": {
        "id": "zS2MryuAIbJP"
      },
      "execution_count": null,
      "outputs": []
    },
    {
      "cell_type": "markdown",
      "source": [
        "**[Jailbroken prompt #1 and response here.]**\n",
        "\n",
        "**[Jailbroken prompt #2 and response.]**"
      ],
      "metadata": {
        "id": "Amjm826bIcdG"
      }
    },
    {
      "cell_type": "markdown",
      "source": [
        "### 7.6 Merge Adapter Weights into Original Model\n",
        "When we trained our model, we trained supplimentary LoRA weights. For others to use them, these models need to be packaged back into the original model. We can simply do this using the `peft` library. Below is an example:"
      ],
      "metadata": {
        "id": "IgKzuyduIdY5"
      }
    },
    {
      "cell_type": "code",
      "source": [
        "# Save the LoRA model weights\n",
        "trainer.model.save_pretrained(\"my-new-dialogue-model\")\n",
        "\n",
        "# Load the original model again without quantization (so we can apply the weights to the full precision model)\n",
        "base_model = AutoModelForCausalLM.from_pretrained(\n",
        "    MODEL_NAME,\n",
        "    low_cpu_mem_usage=True,\n",
        "    return_dict=True,\n",
        "    torch_dtype=torch.float16,\n",
        "    device_map='auto',\n",
        ")\n",
        "\n",
        "# Merge the model weights\n",
        "model = PeftModel.from_pretrained(base_model, \"my-new-dialogue-model\")\n",
        "model = model.merge_and_unload()\n",
        "\n",
        "# Save model locally\n",
        "model.save_pretrained('.')"
      ],
      "metadata": {
        "id": "OOlrc_7CIek1"
      },
      "execution_count": null,
      "outputs": []
    },
    {
      "cell_type": "markdown",
      "source": [
        "## 8. Submit Your Homework\n",
        "This is the end of Project 3. Congratulations!\n",
        "\n",
        "Now, follow the steps below to submit your homework in [Gradescope](https://www.gradescope.com/courses/944807):\n",
        "\n",
        "1. Rename this ipynb file to 'CS4650_p3_GTusername.ipynb'. We recommend ensuring you have removed any extraneous cells & print statements, clearing all outputs, and using the Runtime --> Run all tool to make sure all output is update to date. Additionally, leaving comments in your code to help us understand your operations will assist the teaching staff in grading. It is not a requirement, but is recommended.\n",
        "2. Click on the menu 'File' --> 'Download' --> 'Download .py'.\n",
        "3. Click on the menu 'File' --> 'Download' --> 'Download .ipynb'.\n",
        "5. Upload all 3 files to Gradescope. Double check the files start with `CS4650_p3_*`, capitalization matters."
      ],
      "metadata": {
        "id": "nKJkY6yVP7EI"
      }
    }
  ],
  "metadata": {
    "accelerator": "GPU",
    "colab": {
      "provenance": [],
      "gpuType": "T4",
      "include_colab_link": true
    },
    "kernelspec": {
      "display_name": "Python 3",
      "name": "python3"
    }
  },
  "nbformat": 4,
  "nbformat_minor": 0
}